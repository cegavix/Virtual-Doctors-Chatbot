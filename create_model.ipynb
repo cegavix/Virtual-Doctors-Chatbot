{
 "cells": [
  {
   "cell_type": "code",
   "execution_count": null,
   "outputs": [],
   "source": [
    "import numpy as np\n",
    "import pandas as pd\n",
    "from scipy.stats import mode\n",
    "import matplotlib.pyplot as plt\n",
    "import seaborn as sns\n",
    "from sklearn.preprocessing import LabelEncoder\n",
    "from sklearn.model_selection import train_test_split, cross_val_score\n",
    "from sklearn.svm import SVC\n",
    "from sklearn.naive_bayes import GaussianNB\n",
    "from sklearn.ensemble import RandomForestClassifier\n",
    "from sklearn.metrics import accuracy_score, confusion_matrix"
   ],
   "metadata": {
    "collapsed": false
   },
   "id": "4f2b000b30cd67a3"
  },
  {
   "cell_type": "markdown",
   "source": [
    "# 1. Understanding and Loading the data "
   ],
   "metadata": {
    "collapsed": false
   },
   "id": "81d1ff8f58ebfa32"
  },
  {
   "cell_type": "code",
   "execution_count": 9,
   "outputs": [
    {
     "data": {
      "text/plain": "itching                 0\nskin_rash               0\nnodal_skin_eruptions    0\ncontinuous_sneezing     0\nshivering               0\n                       ..\ninflammatory_nails      0\nblister                 0\nred_sore_around_nose    0\nyellow_crust_ooze       0\nprognosis               0\nLength: 133, dtype: int64"
     },
     "execution_count": 9,
     "metadata": {},
     "output_type": "execute_result"
    }
   ],
   "source": [
    "data1 = pd.read_csv('KAUSHIL268-dataset/Training.csv')\n",
    "data2 = pd.read_csv('KAUSHIL268-dataset/Testing.csv')\n",
    "data2.isnull().sum()"
   ],
   "metadata": {
    "collapsed": false,
    "ExecuteTime": {
     "end_time": "2024-05-11T22:26:59.649544Z",
     "start_time": "2024-05-11T22:26:59.547635Z"
    }
   },
   "id": "308a160ef92daea5"
  },
  {
   "cell_type": "code",
   "execution_count": null,
   "outputs": [],
   "source": [
    "df = pd.concat(data1,data2)\n",
    "df.describe()"
   ],
   "metadata": {
    "collapsed": false
   },
   "id": "11bbf1e293149532"
  }
 ],
 "metadata": {
  "kernelspec": {
   "display_name": "Python 3",
   "language": "python",
   "name": "python3"
  },
  "language_info": {
   "codemirror_mode": {
    "name": "ipython",
    "version": 2
   },
   "file_extension": ".py",
   "mimetype": "text/x-python",
   "name": "python",
   "nbconvert_exporter": "python",
   "pygments_lexer": "ipython2",
   "version": "2.7.6"
  }
 },
 "nbformat": 4,
 "nbformat_minor": 5
}
